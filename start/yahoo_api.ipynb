{
 "cells": [
  {
   "cell_type": "markdown",
   "metadata": {},
   "source": [
    "# Yahoo Finance API Playground & Exploration"
   ]
  },
  {
   "cell_type": "code",
   "execution_count": 5,
   "metadata": {},
   "outputs": [
    {
     "name": "stdout",
     "output_type": "stream",
     "text": [
      "Requirement already satisfied: python-dotenv in c:\\users\\tristan\\desktop\\coding\\machine learning\\stonks\\start\\venv\\lib\\site-packages (from -r requirements.txt (line 1)) (0.20.0)\n",
      "Requirement already satisfied: requests in c:\\users\\tristan\\desktop\\coding\\machine learning\\stonks\\start\\venv\\lib\\site-packages (from -r requirements.txt (line 2)) (2.27.1)\n",
      "Collecting pandas\n",
      "  Downloading pandas-1.4.2-cp310-cp310-win_amd64.whl (10.6 MB)\n",
      "     ---------------------------------------- 10.6/10.6 MB 3.7 MB/s eta 0:00:00\n",
      "Requirement already satisfied: urllib3<1.27,>=1.21.1 in c:\\users\\tristan\\desktop\\coding\\machine learning\\stonks\\start\\venv\\lib\\site-packages (from requests->-r requirements.txt (line 2)) (1.26.9)\n",
      "Requirement already satisfied: idna<4,>=2.5 in c:\\users\\tristan\\desktop\\coding\\machine learning\\stonks\\start\\venv\\lib\\site-packages (from requests->-r requirements.txt (line 2)) (3.3)\n",
      "Requirement already satisfied: charset-normalizer~=2.0.0 in c:\\users\\tristan\\desktop\\coding\\machine learning\\stonks\\start\\venv\\lib\\site-packages (from requests->-r requirements.txt (line 2)) (2.0.12)\n",
      "Requirement already satisfied: certifi>=2017.4.17 in c:\\users\\tristan\\desktop\\coding\\machine learning\\stonks\\start\\venv\\lib\\site-packages (from requests->-r requirements.txt (line 2)) (2021.10.8)\n",
      "Collecting numpy>=1.21.0\n",
      "  Using cached numpy-1.22.3-cp310-cp310-win_amd64.whl (14.7 MB)\n",
      "Collecting pytz>=2020.1\n",
      "  Using cached pytz-2022.1-py2.py3-none-any.whl (503 kB)\n",
      "Requirement already satisfied: python-dateutil>=2.8.1 in c:\\users\\tristan\\desktop\\coding\\machine learning\\stonks\\start\\venv\\lib\\site-packages (from pandas->-r requirements.txt (line 3)) (2.8.2)\n",
      "Requirement already satisfied: six>=1.5 in c:\\users\\tristan\\desktop\\coding\\machine learning\\stonks\\start\\venv\\lib\\site-packages (from python-dateutil>=2.8.1->pandas->-r requirements.txt (line 3)) (1.16.0)\n",
      "Installing collected packages: pytz, numpy, pandas\n",
      "Successfully installed numpy-1.22.3 pandas-1.4.2 pytz-2022.1\n",
      "Note: you may need to restart the kernel to use updated packages.\n"
     ]
    }
   ],
   "source": [
    "%pip install -r requirements.txt"
   ]
  },
  {
   "cell_type": "code",
   "execution_count": 6,
   "metadata": {},
   "outputs": [
    {
     "data": {
      "text/plain": [
       "True"
      ]
     },
     "execution_count": 6,
     "metadata": {},
     "output_type": "execute_result"
    }
   ],
   "source": [
    "from dotenv import load_dotenv\n",
    "import os\n",
    "load_dotenv()"
   ]
  },
  {
   "cell_type": "code",
   "execution_count": 7,
   "metadata": {},
   "outputs": [],
   "source": [
    "import pandas as pd\n",
    "import requests\n"
   ]
  },
  {
   "cell_type": "code",
   "execution_count": 13,
   "metadata": {},
   "outputs": [
    {
     "name": "stdout",
     "output_type": "stream",
     "text": [
      "{'quoteResponse': {'result': [{'language': 'en-US', 'region': 'US', 'quoteType': 'EQUITY', 'typeDisp': 'Equity', 'quoteSourceName': 'Nasdaq Real Time Price', 'triggerable': True, 'customPriceAlertConfidence': 'HIGH', 'currency': 'USD', 'tradeable': False, 'marketState': 'REGULAR', 'exchange': 'NMS', 'firstTradeDateMilliseconds': 345479400000, 'priceHint': 2, 'regularMarketChange': -3.5899963, 'regularMarketChangePercent': -2.0118787, 'regularMarketTime': 1649185440, 'regularMarketPrice': 174.85, 'regularMarketDayHigh': 178.3, 'regularMarketDayRange': '174.85 - 178.3', 'regularMarketDayLow': 174.85, 'regularMarketVolume': 51886751, 'shortName': 'Apple Inc.', 'longName': 'Apple Inc.', 'messageBoardId': 'finmb_24937', 'exchangeTimezoneName': 'America/New_York', 'exchangeTimezoneShortName': 'EDT', 'gmtOffSetMilliseconds': -14400000, 'market': 'us_market', 'esgPopulated': False, 'regularMarketPreviousClose': 178.44, 'bid': 175.15, 'ask': 175.18, 'bidSize': 8, 'askSize': 11, 'fullExchangeName': 'NasdaqGS', 'financialCurrency': 'USD', 'regularMarketOpen': 177.5, 'averageDailyVolume3Month': 94641195, 'averageDailyVolume10Day': 89208430, 'fiftyTwoWeekLowChange': 52.600006, 'fiftyTwoWeekLowChangePercent': 0.4302659, 'fiftyTwoWeekRange': '122.25 - 182.94', 'fiftyTwoWeekHighChange': -8.089996, 'fiftyTwoWeekHighChangePercent': -0.044222128, 'fiftyTwoWeekLow': 122.25, 'fiftyTwoWeekHigh': 182.94, 'dividendDate': 1644451200, 'earningsTimestamp': 1651176000, 'earningsTimestampStart': 1651176000, 'earningsTimestampEnd': 1651176000, 'trailingAnnualDividendRate': 0.865, 'trailingPE': 29.068996, 'trailingAnnualDividendYield': 0.004847568, 'epsTrailingTwelveMonths': 6.015, 'epsForward': 6.56, 'epsCurrentYear': 6.16, 'priceEpsCurrentYear': 28.384743, 'sharesOutstanding': 16319399936, 'bookValue': 4.402, 'fiftyDayAverage': 167.3416, 'fiftyDayAverageChange': 7.5084076, 'fiftyDayAverageChangePercent': 0.044868745, 'twoHundredDayAverage': 156.9505, 'twoHundredDayAverageChange': 17.899506, 'twoHundredDayAverageChangePercent': 0.114045545, 'marketCap': 2853447139328, 'forwardPE': 26.653965, 'priceToBook': 39.720585, 'sourceInterval': 15, 'exchangeDataDelayedBy': 0, 'pageViewGrowthWeekly': -0.12593377, 'averageAnalystRating': '1.8 - Buy', 'displayName': 'Apple', 'symbol': 'AAPL'}, {'language': 'en-US', 'region': 'US', 'quoteType': 'CRYPTOCURRENCY', 'typeDisp': 'CRYPTOCURRENCY', 'quoteSourceName': 'CoinMarketCap', 'triggerable': True, 'customPriceAlertConfidence': 'HIGH', 'currency': 'USD', 'tradeable': False, 'marketState': 'REGULAR', 'exchange': 'CCC', 'firstTradeDateMilliseconds': 1410912000000, 'priceHint': 2, 'circulatingSupply': 19003632, 'lastMarket': 'CoinMarketCap', 'volume24Hr': 30516391936, 'volumeAllCurrencies': 30516391936, 'fromCurrency': 'BTC', 'toCurrency': 'USD=X', 'regularMarketChange': 390.92188, 'regularMarketChangePercent': 0.85851175, 'regularMarketTime': 1649185380, 'regularMarketPrice': 45926.086, 'regularMarketDayHigh': 47090.137, 'regularMarketDayRange': '45724.23 - 47090.137', 'regularMarketDayLow': 45724.23, 'regularMarketVolume': 30516391936, 'shortName': 'Bitcoin USD', 'messageBoardId': 'finmb_BTC_CCC', 'exchangeTimezoneName': 'UTC', 'exchangeTimezoneShortName': 'UTC', 'gmtOffSetMilliseconds': 0, 'market': 'ccc_market', 'esgPopulated': False, 'regularMarketPreviousClose': 46594.12, 'fullExchangeName': 'CCC', 'regularMarketOpen': 46594.12, 'averageDailyVolume3Month': 26817086104, 'averageDailyVolume10Day': 30094531310, 'startDate': 1367107200, 'coinImageUrl': 'https://s2.coinmarketcap.com/static/img/coins/64x64/1.png', 'fiftyTwoWeekLowChange': 17032.465, 'fiftyTwoWeekLowChangePercent': 0.58948874, 'fiftyTwoWeekRange': '28893.621 - 68789.625', 'fiftyTwoWeekHighChange': -22863.54, 'fiftyTwoWeekHighChangePercent': -0.332369, 'fiftyTwoWeekLow': 28893.621, 'fiftyTwoWeekHigh': 68789.625, 'fiftyDayAverage': 41732.793, 'fiftyDayAverageChange': 4193.293, 'fiftyDayAverageChangePercent': 0.100479566, 'twoHundredDayAverage': 48276.918, 'twoHundredDayAverageChange': -2350.832, 'twoHundredDayAverageChangePercent': -0.04869474, 'marketCap': 872762376192, 'sourceInterval': 15, 'exchangeDataDelayedBy': 0, 'pageViewGrowthWeekly': 0.026808579, 'symbol': 'BTC-USD'}, {'language': 'en-US', 'region': 'US', 'quoteType': 'CURRENCY', 'typeDisp': 'Currency', 'quoteSourceName': 'Delayed Quote', 'triggerable': True, 'customPriceAlertConfidence': 'HIGH', 'currency': 'USD', 'regularMarketChange': -0.006944418, 'regularMarketChangePercent': -0.63263613, 'regularMarketPrice': 1.0907505, 'regularMarketDayHigh': 1.0992635, 'regularMarketDayLow': 1.0906315, 'shortName': 'EUR/USD', 'regularMarketPreviousClose': 1.0976949, 'bid': 1.0907505, 'ask': 1.090156, 'regularMarketOpen': 1.0975744, 'fiftyTwoWeekLow': 1.0808591, 'fiftyTwoWeekHigh': 1.2267003, 'fiftyDayAverage': 1.1101904, 'twoHundredDayAverage': 1.1349633, 'tradeable': False, 'marketState': 'REGULAR', 'exchange': 'CCY', 'firstTradeDateMilliseconds': 1070236800000, 'priceHint': 4, 'regularMarketTime': 1649185417, 'regularMarketDayRange': '1.0906315 - 1.0992635', 'regularMarketVolume': 0, 'messageBoardId': 'finmb_EUR_X', 'exchangeTimezoneName': 'Europe/London', 'exchangeTimezoneShortName': 'BST', 'gmtOffSetMilliseconds': 3600000, 'market': 'ccy_market', 'esgPopulated': False, 'bidSize': 0, 'askSize': 0, 'fullExchangeName': 'CCY', 'averageDailyVolume3Month': 0, 'averageDailyVolume10Day': 0, 'fiftyTwoWeekLowChange': 0.101605, 'fiftyTwoWeekLowChangePercent': 0.09400393, 'fiftyTwoWeekRange': '1.0808591 - 1.2267003', 'fiftyTwoWeekHighChange': -0.00838995, 'fiftyTwoWeekHighChangePercent': -0.0068394453, 'fiftyDayAverageChange': 0.016053617, 'fiftyDayAverageChangePercent': 0.014460238, 'twoHundredDayAverageChange': 0.03571421, 'twoHundredDayAverageChangePercent': 0.03146728, 'sourceInterval': 15, 'exchangeDataDelayedBy': 0, 'symbol': 'EURUSD=X'}], 'error': None}}\n"
     ]
    },
    {
     "data": {
      "text/html": [
       "<div>\n",
       "<style scoped>\n",
       "    .dataframe tbody tr th:only-of-type {\n",
       "        vertical-align: middle;\n",
       "    }\n",
       "\n",
       "    .dataframe tbody tr th {\n",
       "        vertical-align: top;\n",
       "    }\n",
       "\n",
       "    .dataframe thead th {\n",
       "        text-align: right;\n",
       "    }\n",
       "</style>\n",
       "<table border=\"1\" class=\"dataframe\">\n",
       "  <thead>\n",
       "    <tr style=\"text-align: right;\">\n",
       "      <th></th>\n",
       "      <th>language</th>\n",
       "      <th>region</th>\n",
       "      <th>quoteType</th>\n",
       "      <th>typeDisp</th>\n",
       "      <th>quoteSourceName</th>\n",
       "      <th>triggerable</th>\n",
       "      <th>customPriceAlertConfidence</th>\n",
       "      <th>currency</th>\n",
       "      <th>tradeable</th>\n",
       "      <th>marketState</th>\n",
       "      <th>...</th>\n",
       "      <th>displayName</th>\n",
       "      <th>symbol</th>\n",
       "      <th>circulatingSupply</th>\n",
       "      <th>lastMarket</th>\n",
       "      <th>volume24Hr</th>\n",
       "      <th>volumeAllCurrencies</th>\n",
       "      <th>fromCurrency</th>\n",
       "      <th>toCurrency</th>\n",
       "      <th>startDate</th>\n",
       "      <th>coinImageUrl</th>\n",
       "    </tr>\n",
       "  </thead>\n",
       "  <tbody>\n",
       "    <tr>\n",
       "      <th>0</th>\n",
       "      <td>en-US</td>\n",
       "      <td>US</td>\n",
       "      <td>EQUITY</td>\n",
       "      <td>Equity</td>\n",
       "      <td>Nasdaq Real Time Price</td>\n",
       "      <td>True</td>\n",
       "      <td>HIGH</td>\n",
       "      <td>USD</td>\n",
       "      <td>False</td>\n",
       "      <td>REGULAR</td>\n",
       "      <td>...</td>\n",
       "      <td>Apple</td>\n",
       "      <td>AAPL</td>\n",
       "      <td>NaN</td>\n",
       "      <td>NaN</td>\n",
       "      <td>NaN</td>\n",
       "      <td>NaN</td>\n",
       "      <td>NaN</td>\n",
       "      <td>NaN</td>\n",
       "      <td>NaN</td>\n",
       "      <td>NaN</td>\n",
       "    </tr>\n",
       "    <tr>\n",
       "      <th>1</th>\n",
       "      <td>en-US</td>\n",
       "      <td>US</td>\n",
       "      <td>CRYPTOCURRENCY</td>\n",
       "      <td>CRYPTOCURRENCY</td>\n",
       "      <td>CoinMarketCap</td>\n",
       "      <td>True</td>\n",
       "      <td>HIGH</td>\n",
       "      <td>USD</td>\n",
       "      <td>False</td>\n",
       "      <td>REGULAR</td>\n",
       "      <td>...</td>\n",
       "      <td>NaN</td>\n",
       "      <td>BTC-USD</td>\n",
       "      <td>19003632.0</td>\n",
       "      <td>CoinMarketCap</td>\n",
       "      <td>3.051639e+10</td>\n",
       "      <td>3.051639e+10</td>\n",
       "      <td>BTC</td>\n",
       "      <td>USD=X</td>\n",
       "      <td>1.367107e+09</td>\n",
       "      <td>https://s2.coinmarketcap.com/static/img/coins/...</td>\n",
       "    </tr>\n",
       "    <tr>\n",
       "      <th>2</th>\n",
       "      <td>en-US</td>\n",
       "      <td>US</td>\n",
       "      <td>CURRENCY</td>\n",
       "      <td>Currency</td>\n",
       "      <td>Delayed Quote</td>\n",
       "      <td>True</td>\n",
       "      <td>HIGH</td>\n",
       "      <td>USD</td>\n",
       "      <td>False</td>\n",
       "      <td>REGULAR</td>\n",
       "      <td>...</td>\n",
       "      <td>NaN</td>\n",
       "      <td>EURUSD=X</td>\n",
       "      <td>NaN</td>\n",
       "      <td>NaN</td>\n",
       "      <td>NaN</td>\n",
       "      <td>NaN</td>\n",
       "      <td>NaN</td>\n",
       "      <td>NaN</td>\n",
       "      <td>NaN</td>\n",
       "      <td>NaN</td>\n",
       "    </tr>\n",
       "  </tbody>\n",
       "</table>\n",
       "<p>3 rows × 82 columns</p>\n",
       "</div>"
      ],
      "text/plain": [
       "  language region       quoteType        typeDisp         quoteSourceName  \\\n",
       "0    en-US     US          EQUITY          Equity  Nasdaq Real Time Price   \n",
       "1    en-US     US  CRYPTOCURRENCY  CRYPTOCURRENCY           CoinMarketCap   \n",
       "2    en-US     US        CURRENCY        Currency           Delayed Quote   \n",
       "\n",
       "   triggerable customPriceAlertConfidence currency  tradeable marketState  \\\n",
       "0         True                       HIGH      USD      False     REGULAR   \n",
       "1         True                       HIGH      USD      False     REGULAR   \n",
       "2         True                       HIGH      USD      False     REGULAR   \n",
       "\n",
       "   ... displayName    symbol  circulatingSupply     lastMarket    volume24Hr  \\\n",
       "0  ...       Apple      AAPL                NaN            NaN           NaN   \n",
       "1  ...         NaN   BTC-USD         19003632.0  CoinMarketCap  3.051639e+10   \n",
       "2  ...         NaN  EURUSD=X                NaN            NaN           NaN   \n",
       "\n",
       "   volumeAllCurrencies  fromCurrency  toCurrency     startDate  \\\n",
       "0                  NaN           NaN         NaN           NaN   \n",
       "1         3.051639e+10           BTC       USD=X  1.367107e+09   \n",
       "2                  NaN           NaN         NaN           NaN   \n",
       "\n",
       "                                        coinImageUrl  \n",
       "0                                                NaN  \n",
       "1  https://s2.coinmarketcap.com/static/img/coins/...  \n",
       "2                                                NaN  \n",
       "\n",
       "[3 rows x 82 columns]"
      ]
     },
     "execution_count": 13,
     "metadata": {},
     "output_type": "execute_result"
    }
   ],
   "source": [
    "url = \"https://yfapi.net/v6/finance/quote\"\n",
    "\n",
    "querystring = {\"symbols\":\"AAPL,BTC-USD,EURUSD=X\"}\n",
    "\n",
    "headers = {\n",
    "    'x-api-key': os.getenv(\"YAHOO_FINANCE_API_KEY\")\n",
    "    }\n",
    "\n",
    "response = requests.request(\"GET\", url, headers=headers, params=querystring)\n",
    "response = response.json()\n",
    "print(response)\n",
    "df = pd.DataFrame(response['quoteResponse']['result'])\n",
    "df.head()"
   ]
  },
  {
   "cell_type": "code",
   "execution_count": 14,
   "metadata": {},
   "outputs": [
    {
     "data": {
      "text/plain": [
       "Index(['language', 'region', 'quoteType', 'typeDisp', 'quoteSourceName',\n",
       "       'triggerable', 'customPriceAlertConfidence', 'currency', 'tradeable',\n",
       "       'marketState', 'exchange', 'firstTradeDateMilliseconds', 'priceHint',\n",
       "       'regularMarketChange', 'regularMarketChangePercent',\n",
       "       'regularMarketTime', 'regularMarketPrice', 'regularMarketDayHigh',\n",
       "       'regularMarketDayRange', 'regularMarketDayLow', 'regularMarketVolume',\n",
       "       'shortName', 'longName', 'messageBoardId', 'exchangeTimezoneName',\n",
       "       'exchangeTimezoneShortName', 'gmtOffSetMilliseconds', 'market',\n",
       "       'esgPopulated', 'regularMarketPreviousClose', 'bid', 'ask', 'bidSize',\n",
       "       'askSize', 'fullExchangeName', 'financialCurrency', 'regularMarketOpen',\n",
       "       'averageDailyVolume3Month', 'averageDailyVolume10Day',\n",
       "       'fiftyTwoWeekLowChange', 'fiftyTwoWeekLowChangePercent',\n",
       "       'fiftyTwoWeekRange', 'fiftyTwoWeekHighChange',\n",
       "       'fiftyTwoWeekHighChangePercent', 'fiftyTwoWeekLow', 'fiftyTwoWeekHigh',\n",
       "       'dividendDate', 'earningsTimestamp', 'earningsTimestampStart',\n",
       "       'earningsTimestampEnd', 'trailingAnnualDividendRate', 'trailingPE',\n",
       "       'trailingAnnualDividendYield', 'epsTrailingTwelveMonths', 'epsForward',\n",
       "       'epsCurrentYear', 'priceEpsCurrentYear', 'sharesOutstanding',\n",
       "       'bookValue', 'fiftyDayAverage', 'fiftyDayAverageChange',\n",
       "       'fiftyDayAverageChangePercent', 'twoHundredDayAverage',\n",
       "       'twoHundredDayAverageChange', 'twoHundredDayAverageChangePercent',\n",
       "       'marketCap', 'forwardPE', 'priceToBook', 'sourceInterval',\n",
       "       'exchangeDataDelayedBy', 'pageViewGrowthWeekly', 'averageAnalystRating',\n",
       "       'displayName', 'symbol', 'circulatingSupply', 'lastMarket',\n",
       "       'volume24Hr', 'volumeAllCurrencies', 'fromCurrency', 'toCurrency',\n",
       "       'startDate', 'coinImageUrl'],\n",
       "      dtype='object')"
      ]
     },
     "execution_count": 14,
     "metadata": {},
     "output_type": "execute_result"
    }
   ],
   "source": [
    "df.columns"
   ]
  }
 ],
 "metadata": {
  "interpreter": {
   "hash": "87c11d6afbbaf7ffb90bda9f2171f4359f6379eb16a0704f8e85b171031cef25"
  },
  "kernelspec": {
   "display_name": "Python 3.10.4 ('venv': venv)",
   "language": "python",
   "name": "python3"
  },
  "language_info": {
   "codemirror_mode": {
    "name": "ipython",
    "version": 3
   },
   "file_extension": ".py",
   "mimetype": "text/x-python",
   "name": "python",
   "nbconvert_exporter": "python",
   "pygments_lexer": "ipython3",
   "version": "3.10.4"
  },
  "orig_nbformat": 4
 },
 "nbformat": 4,
 "nbformat_minor": 2
}
